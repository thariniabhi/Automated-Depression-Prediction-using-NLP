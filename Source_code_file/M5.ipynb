{
 "cells": [
  {
   "cell_type": "code",
   "execution_count": 1,
   "id": "a80d0308",
   "metadata": {},
   "outputs": [],
   "source": [
    "import numpy as np\n",
    "import pandas as pd"
   ]
  },
  {
   "cell_type": "code",
   "execution_count": 2,
   "id": "6e824e83",
   "metadata": {},
   "outputs": [],
   "source": [
    "data=pd.read_csv(\"depression.csv\")"
   ]
  },
  {
   "cell_type": "code",
   "execution_count": 3,
   "id": "b1ea20b5",
   "metadata": {},
   "outputs": [
    {
     "data": {
      "text/html": [
       "<div>\n",
       "<style scoped>\n",
       "    .dataframe tbody tr th:only-of-type {\n",
       "        vertical-align: middle;\n",
       "    }\n",
       "\n",
       "    .dataframe tbody tr th {\n",
       "        vertical-align: top;\n",
       "    }\n",
       "\n",
       "    .dataframe thead th {\n",
       "        text-align: right;\n",
       "    }\n",
       "</style>\n",
       "<table border=\"1\" class=\"dataframe\">\n",
       "  <thead>\n",
       "    <tr style=\"text-align: right;\">\n",
       "      <th></th>\n",
       "      <th>clean_text</th>\n",
       "      <th>is_depression</th>\n",
       "    </tr>\n",
       "  </thead>\n",
       "  <tbody>\n",
       "    <tr>\n",
       "      <th>0</th>\n",
       "      <td>we understand that most people who reply immed...</td>\n",
       "      <td>1</td>\n",
       "    </tr>\n",
       "    <tr>\n",
       "      <th>1</th>\n",
       "      <td>welcome to r depression s check in post a plac...</td>\n",
       "      <td>1</td>\n",
       "    </tr>\n",
       "    <tr>\n",
       "      <th>2</th>\n",
       "      <td>anyone else instead of sleeping more when depr...</td>\n",
       "      <td>1</td>\n",
       "    </tr>\n",
       "    <tr>\n",
       "      <th>3</th>\n",
       "      <td>i ve kind of stuffed around a lot in my life d...</td>\n",
       "      <td>1</td>\n",
       "    </tr>\n",
       "    <tr>\n",
       "      <th>4</th>\n",
       "      <td>sleep is my greatest and most comforting escap...</td>\n",
       "      <td>1</td>\n",
       "    </tr>\n",
       "  </tbody>\n",
       "</table>\n",
       "</div>"
      ],
      "text/plain": [
       "                                          clean_text  is_depression\n",
       "0  we understand that most people who reply immed...              1\n",
       "1  welcome to r depression s check in post a plac...              1\n",
       "2  anyone else instead of sleeping more when depr...              1\n",
       "3  i ve kind of stuffed around a lot in my life d...              1\n",
       "4  sleep is my greatest and most comforting escap...              1"
      ]
     },
     "execution_count": 3,
     "metadata": {},
     "output_type": "execute_result"
    }
   ],
   "source": [
    "data.head()"
   ]
  },
  {
   "cell_type": "code",
   "execution_count": 4,
   "id": "a86b172b",
   "metadata": {},
   "outputs": [
    {
     "data": {
      "text/plain": [
       "(7731, 2)"
      ]
     },
     "execution_count": 4,
     "metadata": {},
     "output_type": "execute_result"
    }
   ],
   "source": [
    "data.shape"
   ]
  },
  {
   "cell_type": "code",
   "execution_count": 5,
   "id": "10dad62e",
   "metadata": {},
   "outputs": [
    {
     "data": {
      "text/plain": [
       "(7731, 2)"
      ]
     },
     "execution_count": 5,
     "metadata": {},
     "output_type": "execute_result"
    }
   ],
   "source": [
    "df=data.dropna()\n",
    "df.shape"
   ]
  },
  {
   "cell_type": "code",
   "execution_count": 6,
   "id": "ce766f0b",
   "metadata": {},
   "outputs": [
    {
     "name": "stdout",
     "output_type": "stream",
     "text": [
      "                                          clean_text is_depression\n",
      "0  we understand that most people who reply immed...    Depression\n",
      "1  welcome to r depression s check in post a plac...    Depression\n",
      "2  anyone else instead of sleeping more when depr...    Depression\n",
      "3  i ve kind of stuffed around a lot in my life d...    Depression\n",
      "4  sleep is my greatest and most comforting escap...    Depression\n"
     ]
    }
   ],
   "source": [
    "df[\"is_depression\"] = df[\"is_depression\"].map({0: \"Not in Depression\", 1: \"Depression\"})\n",
    "print(df.head())"
   ]
  },
  {
   "cell_type": "code",
   "execution_count": 7,
   "id": "7f9af2f8",
   "metadata": {},
   "outputs": [
    {
     "data": {
      "text/plain": [
       "array(['Depression', 'Not in Depression'], dtype=object)"
      ]
     },
     "execution_count": 7,
     "metadata": {},
     "output_type": "execute_result"
    }
   ],
   "source": [
    "df.is_depression.unique()"
   ]
  },
  {
   "cell_type": "code",
   "execution_count": 8,
   "id": "55ccb60f",
   "metadata": {},
   "outputs": [
    {
     "data": {
      "text/plain": [
       "Not in Depression    3900\n",
       "Depression           3831\n",
       "Name: is_depression, dtype: int64"
      ]
     },
     "execution_count": 8,
     "metadata": {},
     "output_type": "execute_result"
    }
   ],
   "source": [
    "df.is_depression.value_counts()"
   ]
  },
  {
   "cell_type": "code",
   "execution_count": 9,
   "id": "2e15e0a8",
   "metadata": {},
   "outputs": [],
   "source": [
    "import re\n",
    "import string\n",
    "import nltk\n",
    "from nltk.corpus import stopwords\n",
    "from nltk.stem.porter import PorterStemmer"
   ]
  },
  {
   "cell_type": "code",
   "execution_count": 10,
   "id": "9969befa",
   "metadata": {},
   "outputs": [],
   "source": [
    "# remove whitespaces\n",
    "df['clean_text']=df['clean_text'].str.strip()\n",
    "# lowercase the text\n",
    "df['clean_text'] = df['clean_text'].str.lower()\n",
    "#remove punctuation\n",
    "punc = string.punctuation\n",
    "table = str.maketrans('','',punc)\n",
    "df['clean_text']=df['clean_text'].apply(lambda x: x.translate(table))\n",
    "# tokenizing each message\n",
    "df['clean_text']=df.apply(lambda x: x['clean_text'].split(' '),axis=1)\n",
    "# removing stopwords\n",
    "df['cleaned_text'] = df.apply(lambda x: [word for word in x['clean_text'] if word not in stopwords.words('english')],axis=1)\n",
    "# stemming\n",
    "ps = PorterStemmer()\n",
    "df['clean_text']= df.apply(lambda x: [ps.stem(word) for word in x['clean_text']],axis=1)\n",
    "# remove single letter words\n",
    "df['clean_text'] = df.apply(lambda x: ' '.join([word for word in x['clean_text'] if len(word)>1]),axis=1)\n"
   ]
  },
  {
   "cell_type": "code",
   "execution_count": 11,
   "id": "da0e3236",
   "metadata": {},
   "outputs": [],
   "source": [
    "X = np.array(df[\"clean_text\"])\n",
    "y = np.array(df[\"is_depression\"])"
   ]
  },
  {
   "cell_type": "code",
   "execution_count": 12,
   "id": "48d32cc1",
   "metadata": {},
   "outputs": [
    {
     "data": {
      "text/plain": [
       "'we understand that most peopl who repli immedi to an op with an invit to talk privat mean onli to help but thi type of respons usual lead to either disappoint or disast it usual work out quit differ here than when you say pm me anytim in casual social context we have huge admir and appreci for the goodwil and good citizenship of so mani of you who support other here and flag inappropri content even more so becaus we know that so mani of you are struggl yourselv we re hard at work behind the scene on more inform and resourc to make it easier to give and get qualiti help here thi is just small start our new wiki page explain in detail whi it much better to respond in public comment at least until you ve gotten to know someon it will be maintain at depress wiki privat contact and the full text of the current version is below summari anyon who while act helper invit or accept privat contact pm chat or ani kind of offsit commun earli in the convers is show either bad intent or bad judgement either way it unwis to trust them pm me anytim seem like kind and gener offer and it might be perfectli well mean but unless and until solid rapport ha been establish it just not wise idea here are some point to consid befor you offer or accept an invit to commun privat by post support repli publicli you ll help more peopl than just the op if your respons are of good qualiti you ll educ and inspir other helper the 90 rule http en wikipedia org wiki rule internet cultur appli here much it doe anywher els on the internet peopl who are struggl with seriou mental health issu often justifi have low toler for disappoint and high level of ever chang emot need unless the helper is abl to make 00 commit to be there for them in everi way for long necessari offer person inbox resourc is like to do more harm than good thi is whi mental health crisi line respond usual don give their name and caller aren allow to request specif respond it much healthier and safer for the caller to develop relationship with the agenc whole analog it much safer and healthier for our op to develop relationship with the commun whole even train respond are gener not allow to work high intens situat alon it partli about avail but it mostli about wider perspect and prevent compass fatigu if helper get in over their head with someon whose mental health issu includ suicid which is often comorbid with depress escal in pm convers it much harder for other includ the depress and suicidewatch moder to help contrari to common assumpt moder can see or polic pm in our observ over mani year the peopl who say pm me the most are consist the one with the least understand of mental health issu and mental health support we all have gap in our knowledg and in our abil to commun effect commun input mitig these limit there no reason whi someon who truli here to help would want to hide their respons from commun scrutini if helper are concern about their own privaci keep in mind that self disclosur when use support is more about the feel than the detail and that we have no problem here with the use of alt throwaway account and have no restrict on account age or karma we all know the internet is use by some peopl to exploit or abus other these peopl do want to hide their decept and manipul respons from everyon except their victim there are mani of them who specif target those who are vulner becaus of mental health issu if helper invit an op to talk privat and give them good support experi they ve prime that person to be more vulner to abus thi sort of cognit prime tend to be particularli effect when someon in state of mental health crisi when peopl reli more on heurist than critic reason if op want to talk privat post on wide open anonym forum like reddit might not be the best option although we don recommend it we do allow op to request privat contact when ask for support if you want to do thi pleas keep your expect realist and to have care look at the histori of anyon who offer to pm befor open up to them'"
      ]
     },
     "execution_count": 12,
     "metadata": {},
     "output_type": "execute_result"
    }
   ],
   "source": [
    "X[0]"
   ]
  },
  {
   "cell_type": "code",
   "execution_count": 13,
   "id": "04bf0eb3",
   "metadata": {},
   "outputs": [
    {
     "data": {
      "text/plain": [
       "array(['Depression', 'Depression', 'Depression', 'Depression',\n",
       "       'Depression', 'Depression', 'Depression', 'Depression',\n",
       "       'Depression', 'Depression'], dtype=object)"
      ]
     },
     "execution_count": 13,
     "metadata": {},
     "output_type": "execute_result"
    }
   ],
   "source": [
    "y[0:10]"
   ]
  },
  {
   "cell_type": "code",
   "execution_count": 14,
   "id": "db747028",
   "metadata": {},
   "outputs": [],
   "source": [
    "from sklearn.feature_extraction.text import CountVectorizer\n",
    "cv = CountVectorizer()\n",
    "cv_X = cv.fit_transform(X) # Fit the Data"
   ]
  },
  {
   "cell_type": "code",
   "execution_count": 15,
   "id": "88e74995",
   "metadata": {},
   "outputs": [],
   "source": [
    "from sklearn.model_selection import train_test_split\n",
    "X_train, X_test, y_train, y_test = train_test_split(cv_X, y, test_size=0.2, random_state=42)"
   ]
  },
  {
   "cell_type": "code",
   "execution_count": 16,
   "id": "bf369d30",
   "metadata": {},
   "outputs": [
    {
     "data": {
      "text/plain": [
       "DecisionTreeClassifier()"
      ]
     },
     "execution_count": 16,
     "metadata": {},
     "output_type": "execute_result"
    }
   ],
   "source": [
    "from sklearn.tree import DecisionTreeClassifier\n",
    "dt = DecisionTreeClassifier()\n",
    "dt.fit(X_train,y_train)"
   ]
  },
  {
   "cell_type": "code",
   "execution_count": 17,
   "id": "32cec969",
   "metadata": {},
   "outputs": [],
   "source": [
    "predict = dt.predict(X_test)"
   ]
  },
  {
   "cell_type": "code",
   "execution_count": 18,
   "id": "98920344",
   "metadata": {},
   "outputs": [
    {
     "name": "stdout",
     "output_type": "stream",
     "text": [
      "Accuracy of DecisionTreeClassifier 92.63089851325145\n"
     ]
    }
   ],
   "source": [
    "from sklearn.metrics import accuracy_score\n",
    "print('Accuracy of DecisionTreeClassifier',accuracy_score(y_test,predict)*100)"
   ]
  },
  {
   "cell_type": "code",
   "execution_count": 19,
   "id": "19a26b3d",
   "metadata": {},
   "outputs": [
    {
     "name": "stdout",
     "output_type": "stream",
     "text": [
      "Confusuion matrix of DecisionTreeClassifier\n",
      " [[695  69]\n",
      " [ 45 738]]\n"
     ]
    }
   ],
   "source": [
    "from sklearn.metrics import confusion_matrix\n",
    "print('Confusuion matrix of DecisionTreeClassifier\\n',confusion_matrix(y_test,predict))"
   ]
  },
  {
   "cell_type": "code",
   "execution_count": 20,
   "id": "5d60f1d7",
   "metadata": {},
   "outputs": [
    {
     "name": "stdout",
     "output_type": "stream",
     "text": [
      "Classification report of DecisionTreeClassifier\n",
      "\n",
      "                    precision    recall  f1-score   support\n",
      "\n",
      "       Depression       0.94      0.91      0.92       764\n",
      "Not in Depression       0.91      0.94      0.93       783\n",
      "\n",
      "         accuracy                           0.93      1547\n",
      "        macro avg       0.93      0.93      0.93      1547\n",
      "     weighted avg       0.93      0.93      0.93      1547\n",
      "\n"
     ]
    }
   ],
   "source": [
    "from sklearn.metrics import classification_report\n",
    "print('Classification report of DecisionTreeClassifier\\n\\n',classification_report(y_test,predict))"
   ]
  },
  {
   "cell_type": "code",
   "execution_count": null,
   "id": "670361fb",
   "metadata": {},
   "outputs": [],
   "source": []
  }
 ],
 "metadata": {
  "kernelspec": {
   "display_name": "Python 3 (ipykernel)",
   "language": "python",
   "name": "python3"
  },
  "language_info": {
   "codemirror_mode": {
    "name": "ipython",
    "version": 3
   },
   "file_extension": ".py",
   "mimetype": "text/x-python",
   "name": "python",
   "nbconvert_exporter": "python",
   "pygments_lexer": "ipython3",
   "version": "3.9.12"
  }
 },
 "nbformat": 4,
 "nbformat_minor": 5
}
